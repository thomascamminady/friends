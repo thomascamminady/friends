{
 "cells": [
  {
   "cell_type": "code",
   "execution_count": null,
   "metadata": {},
   "outputs": [],
   "source": [
    "%load_ext autoreload\n",
    "%autoreload 2"
   ]
  },
  {
   "cell_type": "code",
   "execution_count": null,
   "metadata": {},
   "outputs": [],
   "source": [
    "import requests\n",
    "from bs4 import BeautifulSoup\n",
    "from rich import print\n",
    "\n",
    "from friends.episode import Episode, EpisodeFactory"
   ]
  },
  {
   "cell_type": "code",
   "execution_count": null,
   "metadata": {},
   "outputs": [],
   "source": [
    "episodes = EpisodeFactory().create_episodes()"
   ]
  },
  {
   "cell_type": "code",
   "execution_count": null,
   "metadata": {},
   "outputs": [],
   "source": [
    "headers = {\"Accept-Encoding\": \"identity\"}\n",
    "r = requests.get(episodes[0].link, headers=headers)\n",
    "content = r.text\n",
    "soup = BeautifulSoup(content, \"html.parser\")"
   ]
  },
  {
   "cell_type": "code",
   "execution_count": null,
   "metadata": {},
   "outputs": [],
   "source": [
    "from abc import ABC, abstractmethod\n",
    "\n",
    "\n",
    "class ScriptLine:\n",
    "    def __init__(self, content: str):\n",
    "        self.content = content\n",
    "\n",
    "    @abstractmethod\n",
    "    def __repr__(self):\n",
    "        pass\n",
    "\n",
    "\n",
    "class ScriptLineFactory:\n",
    "    @staticmethod\n",
    "    def dispatch(content: str) -> ScriptLine:\n",
    "        content = content.strip()\n",
    "        if content[0] == \"[\":\n",
    "            return SceneLine(content)\n",
    "        elif content[0] == \"(\":\n",
    "            return ActedLine(content)\n",
    "        elif content.startswith(\"Written by\"):\n",
    "            return MetaData(content)\n",
    "        else:\n",
    "            return SpokenLine(content)\n",
    "\n",
    "\n",
    "class SpokenLine(ScriptLine):\n",
    "    def __init__(self, content: str):\n",
    "        self.content = content\n",
    "        character = self.content.split(\":\")[0]\n",
    "        self.character = character.replace(\" said:\", \"\")\n",
    "        self.words = self.content[len(character) + 1 :]\n",
    "\n",
    "    def __repr__(self):\n",
    "        return f\"\"\"____{self.character.upper()}____:{self.words.strip()}\"\"\"\n",
    "\n",
    "\n",
    "class MetaData(ScriptLine):\n",
    "    def __repr__(self):\n",
    "        return f\"\"\"____METADATA___:{self.content.strip()}\"\"\"\n",
    "\n",
    "\n",
    "class ActedLine(ScriptLine):\n",
    "    def __repr__(self):\n",
    "        return f\"\"\"____ACTION___:{self.content.strip()}\"\"\"\n",
    "\n",
    "\n",
    "class SceneLine(ScriptLine):\n",
    "    def __repr__(self):\n",
    "        return f\"\"\"____SCENE___:{self.content.strip()}\"\"\"\n",
    "      \n",
    "      \n",
    "class ScriptFactor"
   ]
  },
  {
   "cell_type": "code",
   "execution_count": null,
   "metadata": {},
   "outputs": [],
   "source": [
    "SLF = ScriptLineFactory()\n",
    "[SLF.dispatch(tag.text) for tag in soup.find_all(\"p\") if tag.text]"
   ]
  },
  {
   "cell_type": "code",
   "execution_count": null,
   "metadata": {},
   "outputs": [],
   "source": []
  }
 ],
 "metadata": {
  "kernelspec": {
   "language": "python",
   "name": "python3"
  },
  "language_info": {
   "codemirror_mode": {
    "name": "ipython",
    "version": 3
   },
   "file_extension": ".py",
   "mimetype": "text/x-python",
   "name": "python",
   "nbconvert_exporter": "python",
   "pygments_lexer": "ipython3",
   "version": "3.11.4"
  }
 },
 "nbformat": 4,
 "nbformat_minor": 2
}
